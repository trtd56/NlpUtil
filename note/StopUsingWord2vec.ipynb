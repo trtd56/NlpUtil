{
 "cells": [
  {
   "cell_type": "markdown",
   "metadata": {},
   "source": [
    "### reference\n",
    "- https://multithreaded.stitchfix.com/blog/2017/10/18/stop-using-word2vec/\n",
    "- http://camberbridge.github.io/2016/07/08/自己相互情報量-Pointwise-Mutual-Information-PMI-について/\n",
    "- https://www.kaggle.com/hacker-news/hacker-news-corpus"
   ]
  },
  {
   "cell_type": "code",
   "execution_count": 1,
   "metadata": {},
   "outputs": [],
   "source": [
    "import math\n",
    "import numpy as np\n",
    "import pandas as pd\n",
    "from scipy.sparse.linalg import svds\n",
    "from tqdm import tqdm"
   ]
  },
  {
   "cell_type": "code",
   "execution_count": 2,
   "metadata": {},
   "outputs": [
    {
     "name": "stdout",
     "output_type": "stream",
     "text": [
      "(3659697, 14)\n"
     ]
    },
    {
     "data": {
      "text/html": [
       "<div>\n",
       "<style scoped>\n",
       "    .dataframe tbody tr th:only-of-type {\n",
       "        vertical-align: middle;\n",
       "    }\n",
       "\n",
       "    .dataframe tbody tr th {\n",
       "        vertical-align: top;\n",
       "    }\n",
       "\n",
       "    .dataframe thead th {\n",
       "        text-align: right;\n",
       "    }\n",
       "</style>\n",
       "<table border=\"1\" class=\"dataframe\">\n",
       "  <thead>\n",
       "    <tr style=\"text-align: right;\">\n",
       "      <th></th>\n",
       "      <th>title</th>\n",
       "      <th>url</th>\n",
       "      <th>text</th>\n",
       "      <th>dead</th>\n",
       "      <th>by</th>\n",
       "      <th>score</th>\n",
       "      <th>time</th>\n",
       "      <th>type</th>\n",
       "      <th>id</th>\n",
       "      <th>parent</th>\n",
       "      <th>descendants</th>\n",
       "      <th>ranking</th>\n",
       "      <th>deleted</th>\n",
       "      <th>timestamp</th>\n",
       "    </tr>\n",
       "  </thead>\n",
       "  <tbody>\n",
       "    <tr>\n",
       "      <th>0</th>\n",
       "      <td>NaN</td>\n",
       "      <td>NaN</td>\n",
       "      <td>&amp;gt;&lt;i&gt;which leads me to say why are you using...</td>\n",
       "      <td>NaN</td>\n",
       "      <td>coldtea</td>\n",
       "      <td>NaN</td>\n",
       "      <td>1.390844e+09</td>\n",
       "      <td>comment</td>\n",
       "      <td>7131680</td>\n",
       "      <td>7127578.0</td>\n",
       "      <td>NaN</td>\n",
       "      <td>NaN</td>\n",
       "      <td>NaN</td>\n",
       "      <td>2014-01-27T17:31:13Z</td>\n",
       "    </tr>\n",
       "    <tr>\n",
       "      <th>1</th>\n",
       "      <td>NaN</td>\n",
       "      <td>NaN</td>\n",
       "      <td>I would like to point out some counter-example...</td>\n",
       "      <td>NaN</td>\n",
       "      <td>etanol</td>\n",
       "      <td>NaN</td>\n",
       "      <td>1.319396e+09</td>\n",
       "      <td>comment</td>\n",
       "      <td>3146879</td>\n",
       "      <td>3145330.0</td>\n",
       "      <td>NaN</td>\n",
       "      <td>NaN</td>\n",
       "      <td>NaN</td>\n",
       "      <td>2011-10-23T18:46:40Z</td>\n",
       "    </tr>\n",
       "    <tr>\n",
       "      <th>2</th>\n",
       "      <td>NaN</td>\n",
       "      <td>NaN</td>\n",
       "      <td>NaN</td>\n",
       "      <td>NaN</td>\n",
       "      <td>NaN</td>\n",
       "      <td>NaN</td>\n",
       "      <td>1.456641e+09</td>\n",
       "      <td>comment</td>\n",
       "      <td>11190089</td>\n",
       "      <td>11189361.0</td>\n",
       "      <td>NaN</td>\n",
       "      <td>NaN</td>\n",
       "      <td>True</td>\n",
       "      <td>2016-02-28T06:26:56Z</td>\n",
       "    </tr>\n",
       "    <tr>\n",
       "      <th>3</th>\n",
       "      <td>NaN</td>\n",
       "      <td>NaN</td>\n",
       "      <td>&lt;i&gt;Our msbuild implementation can now build Pr...</td>\n",
       "      <td>NaN</td>\n",
       "      <td>Locke1689</td>\n",
       "      <td>NaN</td>\n",
       "      <td>1.407882e+09</td>\n",
       "      <td>comment</td>\n",
       "      <td>8170491</td>\n",
       "      <td>8170071.0</td>\n",
       "      <td>NaN</td>\n",
       "      <td>NaN</td>\n",
       "      <td>NaN</td>\n",
       "      <td>2014-08-12T22:13:10Z</td>\n",
       "    </tr>\n",
       "    <tr>\n",
       "      <th>4</th>\n",
       "      <td>NaN</td>\n",
       "      <td>NaN</td>\n",
       "      <td>No matter how awful iPhoto is it's still bette...</td>\n",
       "      <td>NaN</td>\n",
       "      <td>miloshadzic</td>\n",
       "      <td>NaN</td>\n",
       "      <td>1.362573e+09</td>\n",
       "      <td>comment</td>\n",
       "      <td>5330773</td>\n",
       "      <td>5327590.0</td>\n",
       "      <td>NaN</td>\n",
       "      <td>NaN</td>\n",
       "      <td>NaN</td>\n",
       "      <td>2013-03-06T12:28:02Z</td>\n",
       "    </tr>\n",
       "  </tbody>\n",
       "</table>\n",
       "</div>"
      ],
      "text/plain": [
       "  title  url                                               text dead  \\\n",
       "0   NaN  NaN  &gt;<i>which leads me to say why are you using...  NaN   \n",
       "1   NaN  NaN  I would like to point out some counter-example...  NaN   \n",
       "2   NaN  NaN                                                NaN  NaN   \n",
       "3   NaN  NaN  <i>Our msbuild implementation can now build Pr...  NaN   \n",
       "4   NaN  NaN  No matter how awful iPhoto is it's still bette...  NaN   \n",
       "\n",
       "            by  score          time     type        id      parent  \\\n",
       "0      coldtea    NaN  1.390844e+09  comment   7131680   7127578.0   \n",
       "1       etanol    NaN  1.319396e+09  comment   3146879   3145330.0   \n",
       "2          NaN    NaN  1.456641e+09  comment  11190089  11189361.0   \n",
       "3    Locke1689    NaN  1.407882e+09  comment   8170491   8170071.0   \n",
       "4  miloshadzic    NaN  1.362573e+09  comment   5330773   5327590.0   \n",
       "\n",
       "   descendants  ranking deleted             timestamp  \n",
       "0          NaN      NaN     NaN  2014-01-27T17:31:13Z  \n",
       "1          NaN      NaN     NaN  2011-10-23T18:46:40Z  \n",
       "2          NaN      NaN    True  2016-02-28T06:26:56Z  \n",
       "3          NaN      NaN     NaN  2014-08-12T22:13:10Z  \n",
       "4          NaN      NaN     NaN  2013-03-06T12:28:02Z  "
      ]
     },
     "execution_count": 2,
     "metadata": {},
     "output_type": "execute_result"
    }
   ],
   "source": [
    "df = pd.read_csv(\"../input/hacker_news_sample.csv\")\n",
    "\n",
    "#df = df.sample(10000)\n",
    "print(df.shape)\n",
    "df.head()"
   ]
  },
  {
   "cell_type": "code",
   "execution_count": 3,
   "metadata": {},
   "outputs": [
    {
     "data": {
      "text/plain": [
       "2984974"
      ]
     },
     "execution_count": 3,
     "metadata": {},
     "output_type": "execute_result"
    }
   ],
   "source": [
    "text = df[\"text\"]\n",
    "text = text[text.isnull() == False].values\n",
    "len(text)"
   ]
  },
  {
   "cell_type": "code",
   "execution_count": 4,
   "metadata": {},
   "outputs": [
    {
     "name": "stderr",
     "output_type": "stream",
     "text": [
      "100%|██████████| 2984974/2984974 [00:36<00:00, 82163.98it/s]\n"
     ]
    }
   ],
   "source": [
    "sentences = []\n",
    "for sentence in tqdm(text):\n",
    "    words = [i.lower() for i in sentence.split()]\n",
    "    sentences.extend(words)"
   ]
  },
  {
   "cell_type": "code",
   "execution_count": 5,
   "metadata": {},
   "outputs": [
    {
     "name": "stderr",
     "output_type": "stream",
     "text": [
      "100%|██████████| 181603054/181603054 [02:07<00:00, 1425363.09it/s]\n"
     ]
    }
   ],
   "source": [
    "unigram_counts = {}\n",
    "for word in tqdm(sentences):\n",
    "    if word not in unigram_counts.keys():\n",
    "        unigram_counts[word] = 1\n",
    "    else:\n",
    "        unigram_counts[word] += 1"
   ]
  },
  {
   "cell_type": "code",
   "execution_count": 6,
   "metadata": {},
   "outputs": [
    {
     "name": "stderr",
     "output_type": "stream",
     "text": [
      "100%|██████████| 181603052/181603052 [05:45<00:00, 525645.30it/s]\n"
     ]
    }
   ],
   "source": [
    "nb_skip = 2\n",
    "skipgram_count = {}\n",
    "for idx in tqdm(range(len(sentences) - nb_skip)):\n",
    "    w1 = sentences[idx]\n",
    "    w2 = sentences[idx+nb_skip]\n",
    "    skip_pair = \" \".join(sorted([w1, w2]))\n",
    "    if skip_pair not in skipgram_count.keys():\n",
    "        skipgram_count[skip_pair] = 1\n",
    "    else:\n",
    "        skipgram_count[skip_pair] += 1"
   ]
  },
  {
   "cell_type": "code",
   "execution_count": 7,
   "metadata": {},
   "outputs": [],
   "source": [
    "n_text = len(sentences)\n",
    "\n",
    "def calc_pmi(word1, word2):\n",
    "    bind_w = \" \".join([word1, word2])\n",
    "    pxy = skipgram_count[bind_w] / n_text\n",
    "    px = unigram_counts[word1] / n_text\n",
    "    py = unigram_counts[word2] / n_text\n",
    "    pmi = math.log2(pxy / (px * py))\n",
    "    return pmi"
   ]
  },
  {
   "cell_type": "code",
   "execution_count": 8,
   "metadata": {},
   "outputs": [
    {
     "data": {
      "text/plain": [
       "0.3826487152819245"
      ]
     },
     "execution_count": 8,
     "metadata": {},
     "output_type": "execute_result"
    }
   ],
   "source": [
    "calc_pmi(\"the\", \"twitter\")"
   ]
  },
  {
   "cell_type": "code",
   "execution_count": 9,
   "metadata": {},
   "outputs": [
    {
     "data": {
      "text/plain": [
       "1.323790313780776"
      ]
     },
     "execution_count": 9,
     "metadata": {},
     "output_type": "execute_result"
    }
   ],
   "source": [
    "calc_pmi(\"and\", \"the\")"
   ]
  },
  {
   "cell_type": "code",
   "execution_count": 10,
   "metadata": {},
   "outputs": [],
   "source": [
    "min_count = 3\n",
    "\n",
    "def min_count_filter(dic, count):\n",
    "    tmp = {}\n",
    "    for k, v in tqdm(dic.items()):\n",
    "        if v < min_count:\n",
    "            continue\n",
    "        tmp[k] = v\n",
    "    return tmp"
   ]
  },
  {
   "cell_type": "code",
   "execution_count": 11,
   "metadata": {},
   "outputs": [
    {
     "name": "stderr",
     "output_type": "stream",
     "text": [
      "100%|██████████| 4892981/4892981 [00:09<00:00, 504417.37it/s]\n",
      "100%|██████████| 36607403/36607403 [00:13<00:00, 2699173.46it/s]\n"
     ]
    }
   ],
   "source": [
    "unigram_counts = min_count_filter(unigram_counts, min_count)\n",
    "skipgram_count = min_count_filter(skipgram_count, min_count)"
   ]
  },
  {
   "cell_type": "code",
   "execution_count": 12,
   "metadata": {},
   "outputs": [
    {
     "name": "stderr",
     "output_type": "stream",
     "text": [
      "  0%|          | 99/644802 [01:10<131:07:29,  1.37it/s]"
     ]
    },
    {
     "ename": "KeyboardInterrupt",
     "evalue": "",
     "output_type": "error",
     "traceback": [
      "\u001b[0;31m---------------------------------------------------------------------------\u001b[0m",
      "\u001b[0;31mKeyError\u001b[0m                                  Traceback (most recent call last)",
      "\u001b[0;32m<ipython-input-12-f0100a5584bf>\u001b[0m in \u001b[0;36m<module>\u001b[0;34m\u001b[0m\n\u001b[1;32m      5\u001b[0m         \u001b[0;32mtry\u001b[0m\u001b[0;34m:\u001b[0m\u001b[0;34m\u001b[0m\u001b[0;34m\u001b[0m\u001b[0m\n\u001b[0;32m----> 6\u001b[0;31m             \u001b[0mpmi\u001b[0m \u001b[0;34m=\u001b[0m \u001b[0mcalc_pmi\u001b[0m\u001b[0;34m(\u001b[0m\u001b[0mk\u001b[0m\u001b[0;34m,\u001b[0m \u001b[0mkk\u001b[0m\u001b[0;34m)\u001b[0m\u001b[0;34m\u001b[0m\u001b[0;34m\u001b[0m\u001b[0m\n\u001b[0m\u001b[1;32m      7\u001b[0m         \u001b[0;32mexcept\u001b[0m \u001b[0mKeyError\u001b[0m\u001b[0;34m:\u001b[0m\u001b[0;34m\u001b[0m\u001b[0;34m\u001b[0m\u001b[0m\n",
      "\u001b[0;32m<ipython-input-7-139b138b8b4a>\u001b[0m in \u001b[0;36mcalc_pmi\u001b[0;34m(word1, word2)\u001b[0m\n\u001b[1;32m      4\u001b[0m     \u001b[0mbind_w\u001b[0m \u001b[0;34m=\u001b[0m \u001b[0;34m\" \"\u001b[0m\u001b[0;34m.\u001b[0m\u001b[0mjoin\u001b[0m\u001b[0;34m(\u001b[0m\u001b[0;34m[\u001b[0m\u001b[0mword1\u001b[0m\u001b[0;34m,\u001b[0m \u001b[0mword2\u001b[0m\u001b[0;34m]\u001b[0m\u001b[0;34m)\u001b[0m\u001b[0;34m\u001b[0m\u001b[0;34m\u001b[0m\u001b[0m\n\u001b[0;32m----> 5\u001b[0;31m     \u001b[0mpxy\u001b[0m \u001b[0;34m=\u001b[0m \u001b[0mskipgram_count\u001b[0m\u001b[0;34m[\u001b[0m\u001b[0mbind_w\u001b[0m\u001b[0;34m]\u001b[0m \u001b[0;34m/\u001b[0m \u001b[0mn_text\u001b[0m\u001b[0;34m\u001b[0m\u001b[0;34m\u001b[0m\u001b[0m\n\u001b[0m\u001b[1;32m      6\u001b[0m     \u001b[0mpx\u001b[0m \u001b[0;34m=\u001b[0m \u001b[0munigram_counts\u001b[0m\u001b[0;34m[\u001b[0m\u001b[0mword1\u001b[0m\u001b[0;34m]\u001b[0m \u001b[0;34m/\u001b[0m \u001b[0mn_text\u001b[0m\u001b[0;34m\u001b[0m\u001b[0;34m\u001b[0m\u001b[0m\n",
      "\u001b[0;31mKeyError\u001b[0m: 'in&quot; rel=\"nofollow\">http:&#x2f;&#x2f;jrs-s.net&#x2f;2015&#x2f;02&#x2f;06&#x2f;zfs-you-should-use-mirror-vdevs-...</a>'",
      "\nDuring handling of the above exception, another exception occurred:\n",
      "\u001b[0;31mKeyboardInterrupt\u001b[0m                         Traceback (most recent call last)",
      "\u001b[0;32m<ipython-input-12-f0100a5584bf>\u001b[0m in \u001b[0;36m<module>\u001b[0;34m\u001b[0m\n\u001b[1;32m      4\u001b[0m     \u001b[0;32mfor\u001b[0m \u001b[0mkk\u001b[0m\u001b[0;34m,\u001b[0m \u001b[0mvv\u001b[0m \u001b[0;32min\u001b[0m \u001b[0munigram_counts\u001b[0m\u001b[0;34m.\u001b[0m\u001b[0mitems\u001b[0m\u001b[0;34m(\u001b[0m\u001b[0;34m)\u001b[0m\u001b[0;34m:\u001b[0m\u001b[0;34m\u001b[0m\u001b[0;34m\u001b[0m\u001b[0m\n\u001b[1;32m      5\u001b[0m         \u001b[0;32mtry\u001b[0m\u001b[0;34m:\u001b[0m\u001b[0;34m\u001b[0m\u001b[0;34m\u001b[0m\u001b[0m\n\u001b[0;32m----> 6\u001b[0;31m             \u001b[0mpmi\u001b[0m \u001b[0;34m=\u001b[0m \u001b[0mcalc_pmi\u001b[0m\u001b[0;34m(\u001b[0m\u001b[0mk\u001b[0m\u001b[0;34m,\u001b[0m \u001b[0mkk\u001b[0m\u001b[0;34m)\u001b[0m\u001b[0;34m\u001b[0m\u001b[0;34m\u001b[0m\u001b[0m\n\u001b[0m\u001b[1;32m      7\u001b[0m         \u001b[0;32mexcept\u001b[0m \u001b[0mKeyError\u001b[0m\u001b[0;34m:\u001b[0m\u001b[0;34m\u001b[0m\u001b[0;34m\u001b[0m\u001b[0m\n\u001b[1;32m      8\u001b[0m             \u001b[0mpmi\u001b[0m \u001b[0;34m=\u001b[0m \u001b[0;36m0\u001b[0m\u001b[0;34m\u001b[0m\u001b[0;34m\u001b[0m\u001b[0m\n",
      "\u001b[0;31mKeyboardInterrupt\u001b[0m: "
     ]
    }
   ],
   "source": [
    "pmi_lst = []\n",
    "for k, v in tqdm(unigram_counts.items()):\n",
    "    _lst = []\n",
    "    for kk, vv in unigram_counts.items():\n",
    "        try:\n",
    "            pmi = calc_pmi(k, kk)\n",
    "        except KeyError:\n",
    "            pmi = 0\n",
    "        _lst.append(pmi)\n",
    "    pmi_lst.append(_lst)\n",
    "pmi_arr = np.array(pmi_lst)\n",
    "pmi_arr"
   ]
  },
  {
   "cell_type": "code",
   "execution_count": null,
   "metadata": {},
   "outputs": [],
   "source": [
    "U, S, V = svds(pmi_arr, k=256) "
   ]
  },
  {
   "cell_type": "code",
   "execution_count": null,
   "metadata": {},
   "outputs": [],
   "source": [
    "w_vec_dic = {}\n",
    "for v, w in zip(U, unigram_counts.keys()):\n",
    "    w_vec_dic[w] = v"
   ]
  },
  {
   "cell_type": "code",
   "execution_count": null,
   "metadata": {},
   "outputs": [],
   "source": [
    "similarities = np.dot(U, w_vec_dic[\"facebook\"])\n",
    "[list(unigram_counts.keys())[i] for i in np.argsort(similarities)[:3]]"
   ]
  },
  {
   "cell_type": "code",
   "execution_count": null,
   "metadata": {},
   "outputs": [],
   "source": [
    "similarities = np.dot(U, w_vec_dic[\"haskell\"])\n",
    "[list(unigram_counts.keys())[i] for i in np.argsort(similarities)[:3]]"
   ]
  },
  {
   "cell_type": "code",
   "execution_count": null,
   "metadata": {},
   "outputs": [],
   "source": []
  }
 ],
 "metadata": {
  "kernelspec": {
   "display_name": "Python 3",
   "language": "python",
   "name": "python3"
  },
  "language_info": {
   "codemirror_mode": {
    "name": "ipython",
    "version": 3
   },
   "file_extension": ".py",
   "mimetype": "text/x-python",
   "name": "python",
   "nbconvert_exporter": "python",
   "pygments_lexer": "ipython3",
   "version": "3.7.2"
  }
 },
 "nbformat": 4,
 "nbformat_minor": 2
}
